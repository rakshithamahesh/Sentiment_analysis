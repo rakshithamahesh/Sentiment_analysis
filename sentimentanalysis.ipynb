{
 "cells": [
  {
   "cell_type": "code",
   "execution_count": 1,
   "id": "a6fde654-8e87-4166-b41c-fec55eff9dcb",
   "metadata": {},
   "outputs": [],
   "source": [
    "import sys\n",
    "import time\n",
    "import requests\n",
    "audio_data = \"albanian1.mp3\"\n",
    "def read_audio_file(audio_data, chunk_size=5242880):\n",
    "    with open(audio_data, 'rb') as _file:\n",
    "        while True:\n",
    "            data = _file.read(chunk_size)\n",
    "            if not data:\n",
    "                break\n",
    "            yield data"
   ]
  },
  {
   "cell_type": "code",
   "execution_count": 9,
   "id": "ed5cae0b-d74d-4b5c-beaf-ac3e3e451561",
   "metadata": {},
   "outputs": [],
   "source": [
    "import sys\n",
    "import time\n",
    "import requests\n",
    "audio_data = \"Recording.M4A\"\n",
    "def read_audio_file(audio_data, chunk_size=5242880):\n",
    "    with open(audio_data, 'rb') as _file:\n",
    "        while True:\n",
    "            data = _file.read(chunk_size)\n",
    "            if not data:\n",
    "                break\n",
    "            yield data"
   ]
  },
  {
   "cell_type": "code",
   "execution_count": 10,
   "id": "c67071d5-d8d8-470b-b530-6e9cdf04ef43",
   "metadata": {},
   "outputs": [
    {
     "name": "stdout",
     "output_type": "stream",
     "text": [
      "{'upload_url': 'https://cdn.assemblyai.com/upload/d22c676c-a649-4500-80bc-b97301352fd6'}\n"
     ]
    }
   ],
   "source": [
    "headers = {\n",
    "    \"authorization\": \"*****auth code \"\n",
    " }\n",
    "response = requests.post('https://api.assemblyai.com/v2/upload', headers=headers, data=read_audio_file(audio_data))\n",
    "print(response.json())"
   ]
  },
  {
   "cell_type": "code",
   "execution_count": 11,
   "id": "6cdffa28-24ea-40af-8495-67d8bba3af01",
   "metadata": {},
   "outputs": [
    {
     "name": "stdout",
     "output_type": "stream",
     "text": [
      "{'id': 'okzwronza6-b5e8-4bbd-8831-20c5c1516693', 'language_model': 'assemblyai_default', 'acoustic_model': 'assemblyai_default', 'language_code': 'en_us', 'status': 'queued', 'audio_url': 'https://cdn.assemblyai.com/upload/d22c676c-a649-4500-80bc-b97301352fd6', 'text': None, 'words': None, 'utterances': None, 'confidence': None, 'audio_duration': None, 'punctuate': True, 'format_text': True, 'dual_channel': None, 'webhook_url': None, 'webhook_status_code': None, 'speed_boost': False, 'auto_highlights_result': None, 'auto_highlights': False, 'audio_start_from': None, 'audio_end_at': None, 'word_boost': [], 'boost_param': None, 'filter_profanity': False, 'redact_pii': False, 'redact_pii_audio': False, 'redact_pii_audio_quality': None, 'redact_pii_policies': None, 'redact_pii_sub': None, 'speaker_labels': False, 'content_safety': False, 'iab_categories': False, 'content_safety_labels': {}, 'iab_categories_result': {}, 'disfluencies': False, 'sentiment_analysis': 'TRUE', 'sentiment_analysis_results': None, 'auto_chapters': False, 'chapters': None, 'entity_detection': False, 'entities': None}\n"
     ]
    }
   ],
   "source": [
    "speech_to_text_api = \"https://api.assemblyai.com/v2/transcript\"\n",
    "data = {\n",
    "  \"audio_url\": \"https://cdn.assemblyai.com/upload/d22c676c-a649-4500-80bc-b97301352fd6\",\n",
    "  \"sentiment_analysis\": \"TRUE\"\n",
    "}\n",
    "headers = {\n",
    "    \"authorization\": \"*****\",\n",
    "    \"content-type\": \"application/json\"\n",
    "}\n",
    "response = requests.post(speech_to_text_api, json=data, headers=headers)\n",
    "print(response.json())"
   ]
  },
  {
   "cell_type": "code",
   "execution_count": 12,
   "id": "486dc027-b382-46e6-b418-1947ddb641b9",
   "metadata": {},
   "outputs": [
    {
     "name": "stdout",
     "output_type": "stream",
     "text": [
      "{'id': 'okzwronza6-b5e8-4bbd-8831-20c5c1516693', 'language_model': 'assemblyai_default', 'acoustic_model': 'assemblyai_default', 'language_code': 'en_us', 'status': 'completed', 'audio_url': 'https://cdn.assemblyai.com/upload/d22c676c-a649-4500-80bc-b97301352fd6', 'text': \"Hello. I'm feeling very sad today. I'm not sure why. Maybe because of rain. I'm actually thinking I might feel good tomorrow. You.\", 'words': [{'text': 'Hello.', 'start': 2150, 'end': 2674, 'confidence': 0.86743, 'speaker': None}, {'text': \"I'm\", 'start': 2832, 'end': 3218, 'confidence': 0.49346, 'speaker': None}, {'text': 'feeling', 'start': 3254, 'end': 3482, 'confidence': 0.99694, 'speaker': None}, {'text': 'very', 'start': 3506, 'end': 3730, 'confidence': 0.9931, 'speaker': None}, {'text': 'sad', 'start': 3780, 'end': 4058, 'confidence': 0.9809, 'speaker': None}, {'text': 'today.', 'start': 4094, 'end': 4680, 'confidence': 0.99983, 'speaker': None}, {'text': \"I'm\", 'start': 5010, 'end': 5342, 'confidence': 0.8728, 'speaker': None}, {'text': 'not', 'start': 5366, 'end': 5554, 'confidence': 0.99859, 'speaker': None}, {'text': 'sure', 'start': 5592, 'end': 5794, 'confidence': 0.99981, 'speaker': None}, {'text': 'why.', 'start': 5832, 'end': 6420, 'confidence': 0.99892, 'speaker': None}, {'text': 'Maybe', 'start': 6810, 'end': 7210, 'confidence': 0.91201, 'speaker': None}, {'text': 'because', 'start': 7260, 'end': 7582, 'confidence': 0.99582, 'speaker': None}, {'text': 'of', 'start': 7656, 'end': 7894, 'confidence': 0.76501, 'speaker': None}, {'text': 'rain.', 'start': 7932, 'end': 8590, 'confidence': 0.95409, 'speaker': None}, {'text': \"I'm\", 'start': 10290, 'end': 11170, 'confidence': 0.44694, 'speaker': None}, {'text': 'actually', 'start': 11490, 'end': 11998, 'confidence': 0.9886, 'speaker': None}, {'text': 'thinking', 'start': 12084, 'end': 12514, 'confidence': 0.90979, 'speaker': None}, {'text': 'I', 'start': 12612, 'end': 12874, 'confidence': 0.5799, 'speaker': None}, {'text': 'might', 'start': 12912, 'end': 13186, 'confidence': 0.9988, 'speaker': None}, {'text': 'feel', 'start': 13248, 'end': 13510, 'confidence': 0.99573, 'speaker': None}, {'text': 'good', 'start': 13560, 'end': 13774, 'confidence': 0.9998, 'speaker': None}, {'text': 'tomorrow.', 'start': 13812, 'end': 14530, 'confidence': 0.85141, 'speaker': None}, {'text': 'You.', 'start': 15750, 'end': 16000, 'confidence': 0.26969, 'speaker': None}], 'utterances': None, 'confidence': 0.863885652173913, 'audio_duration': 16, 'punctuate': True, 'format_text': True, 'dual_channel': None, 'webhook_url': None, 'webhook_status_code': None, 'speed_boost': False, 'auto_highlights_result': None, 'auto_highlights': False, 'audio_start_from': None, 'audio_end_at': None, 'word_boost': [], 'boost_param': None, 'filter_profanity': False, 'redact_pii': False, 'redact_pii_audio': False, 'redact_pii_audio_quality': None, 'redact_pii_policies': None, 'redact_pii_sub': None, 'speaker_labels': False, 'content_safety': False, 'iab_categories': False, 'content_safety_labels': {'status': 'unavailable', 'results': [], 'summary': {}}, 'iab_categories_result': {'status': 'unavailable', 'results': [], 'summary': {}}, 'disfluencies': False, 'sentiment_analysis': 'TRUE', 'auto_chapters': False, 'chapters': None, 'sentiment_analysis_results': [{'text': 'Hello.', 'start': 2150, 'end': 2674, 'sentiment': 'NEUTRAL', 'confidence': 0.5208578705787659, 'speaker': None}, {'text': \"I'm feeling very sad today.\", 'start': 2832, 'end': 4680, 'sentiment': 'NEGATIVE', 'confidence': 0.9477589726448059, 'speaker': None}, {'text': \"I'm not sure why.\", 'start': 5010, 'end': 6420, 'sentiment': 'NEUTRAL', 'confidence': 0.5310449600219727, 'speaker': None}, {'text': 'Maybe because of rain.', 'start': 6810, 'end': 8590, 'sentiment': 'NEUTRAL', 'confidence': 0.7533559799194336, 'speaker': None}, {'text': \"I'm actually thinking I might feel good tomorrow.\", 'start': 10290, 'end': 14530, 'sentiment': 'POSITIVE', 'confidence': 0.9684095978736877, 'speaker': None}, {'text': 'You.', 'start': 15750, 'end': 16000, 'sentiment': 'NEUTRAL', 'confidence': 0.5462570786476135, 'speaker': None}], 'entity_detection': False, 'entities': None}\n"
     ]
    }
   ],
   "source": [
    "request_url = \"https://api.assemblyai.com/v2/transcript/okzwronza6-b5e8-4bbd-8831-20c5c1516693\"\n",
    "headers = {\n",
    "    \"authorization\": \"******\"\n",
    "}\n",
    "response = requests.get(request_url, headers=headers)\n",
    "print(response.json())"
   ]
  },
  {
   "cell_type": "code",
   "execution_count": 13,
   "id": "b2e545a6-2682-4e17-be7e-cc6b378ff576",
   "metadata": {},
   "outputs": [
    {
     "data": {
      "text/plain": [
       "[{'text': 'Hello.',\n",
       "  'start': 2150,\n",
       "  'end': 2674,\n",
       "  'sentiment': 'NEUTRAL',\n",
       "  'confidence': 0.5208578705787659,\n",
       "  'speaker': None},\n",
       " {'text': \"I'm feeling very sad today.\",\n",
       "  'start': 2832,\n",
       "  'end': 4680,\n",
       "  'sentiment': 'NEGATIVE',\n",
       "  'confidence': 0.9477589726448059,\n",
       "  'speaker': None},\n",
       " {'text': \"I'm not sure why.\",\n",
       "  'start': 5010,\n",
       "  'end': 6420,\n",
       "  'sentiment': 'NEUTRAL',\n",
       "  'confidence': 0.5310449600219727,\n",
       "  'speaker': None},\n",
       " {'text': 'Maybe because of rain.',\n",
       "  'start': 6810,\n",
       "  'end': 8590,\n",
       "  'sentiment': 'NEUTRAL',\n",
       "  'confidence': 0.7533559799194336,\n",
       "  'speaker': None},\n",
       " {'text': \"I'm actually thinking I might feel good tomorrow.\",\n",
       "  'start': 10290,\n",
       "  'end': 14530,\n",
       "  'sentiment': 'POSITIVE',\n",
       "  'confidence': 0.9684095978736877,\n",
       "  'speaker': None},\n",
       " {'text': 'You.',\n",
       "  'start': 15750,\n",
       "  'end': 16000,\n",
       "  'sentiment': 'NEUTRAL',\n",
       "  'confidence': 0.5462570786476135,\n",
       "  'speaker': None}]"
      ]
     },
     "execution_count": 13,
     "metadata": {},
     "output_type": "execute_result"
    }
   ],
   "source": [
    "sentiment_analysis_report = response.json()['sentiment_analysis_results']\n",
    "sentiment_analysis_report"
   ]
  },
  {
   "cell_type": "code",
   "execution_count": null,
   "id": "6d283a3f-25fb-4f01-aa27-5fcd267a8ca3",
   "metadata": {},
   "outputs": [],
   "source": []
  }
 ],
 "metadata": {
  "kernelspec": {
   "display_name": "Python 3 (ipykernel)",
   "language": "python",
   "name": "python3"
  },
  "language_info": {
   "codemirror_mode": {
    "name": "ipython",
    "version": 3
   },
   "file_extension": ".py",
   "mimetype": "text/x-python",
   "name": "python",
   "nbconvert_exporter": "python",
   "pygments_lexer": "ipython3",
   "version": "3.9.7"
  }
 },
 "nbformat": 4,
 "nbformat_minor": 5
}
